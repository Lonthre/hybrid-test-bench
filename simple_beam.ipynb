{
 "cells": [
  {
   "cell_type": "markdown",
   "metadata": {},
   "source": [
    "# Hybrid Test Bench 2-DoFs - case study\n",
    "\n",
    "This test bench consists of a steel frame equipped with two electro-mechanical actuators and a force transducer. The horizontal actuator applies a force $f_h$ [N] to the beam tip and measures the corresponding displacement $u_h$ [mm]. The vertical actuator applies a displacement $u_v$ [mm] to the beam tip and measures the corresponding reaction force $f_v$ [N].\n",
    "\n",
    "<img src=\"assets\\test_bench_2dof.jpg\" alt=\"Test Bench 1-DoF\" height=\"500\">\n",
    "\n",
    "Below is a schematic of the setup with main dimensions in [mm] and indication of forces/displacements, which has to be used to produce a finite-element model. For each part of the test bench (frame, supports and specimen) cross-sections are given with main dimensions. All parts are made of steel (elastic modulus $E=210e3$ MPa), expect for the specimen, which is made in aluminum (elastic modulus $E=70e3$ MPa).\n",
    "\n",
    "Note that one of the nodes is missing a number.\n",
    "\n",
    "<img src=\"assets\\test_bench_2dof_CAD.png\" alt=\"Test Bench 1-DoF\" height=\"500\">\n",
    "\n",
    "As you can see, the figure already reports a tentative numbering of nodes (1-12), which you can use to define the finite-element model. The coordinates of each node, shall be expressed w.r.t. coordinate system x-y-z and computed based on the dimensions of the drawing.\n",
    "\n",
    "The following loadings are applied to the specimen:\n",
    "\n",
    "$u_v(t) = 20 \\sin(4\\pi t)$ [mm]\n",
    "\n",
    "$f_h(t) = 100 \\sin(2\\pi t)$ [N]\n",
    "\n",
    "The corresponding $f_v(t)$ and $u_h(t)$ are measured.\n",
    "\n",
    "The bending stiffness $K_b$ of the specimen defines the proportionality between $u_v$ and $f_v$:\n",
    "\n",
    "$f_v = K_b u_v$\n",
    "\n",
    "The axial stiffness $K_a$ of the specimen defines the proportionality between $u_h$ and $f_h$:\n",
    "\n",
    "$f_h = K_a u_h$\n",
    "\n",
    "# Assignment\n",
    "\n",
    "In this project both the Digital and the Physical Twin are represented by the same finite-element model:\n",
    "* The PHYSICAL TWIN is simulated considering that actual material for the specimen, which is aluminum (elastic modulus $E=70e3$ MPa).\n",
    "* The DIGITAL TWIN assumes an initial guess for the material parameters of the specimen, which is close to aluminum (elastic modulus $E=100e3$ MPa) but not exact.\n",
    "* A \"model calibration\" service shall be developed to estimate the correct value for the elastic modulus of the specimen, by comparing the force displacement relationships $f_h = K_a u_h$ and $f_v = K_b u_v$ between DIGITAL TWIN and PHYSICAL TWIN.\n",
    "* In this project, 1D elements (beam) are sufficient to construct the finite-element model of each of the selected test bench."
   ]
  },
  {
   "cell_type": "markdown",
   "metadata": {},
   "source": [
    "# Building our finite-element model in YaFEM\n",
    "\n",
    "For our case study we will use YaFEM, which is a toolbox used to create simple finite-element models made of 1D, 2D and 3D elements.\n",
    "\n",
    "We start with building a finite-element model for a simple cantilever beam subjected to a vertical tip displacement and horizontal tip force. Same logic as for the one one the next image, but we have the beam which is coloured green on the test bench image - between nodes 9 and 10."
   ]
  },
  {
   "cell_type": "markdown",
   "metadata": {},
   "source": [
    "<img src=\"assets\\cantilever_beam.jpg\" alt=\"Cantilever beam example\" height=\"200\">"
   ]
  },
  {
   "cell_type": "markdown",
   "metadata": {},
   "source": [
    "Step 1: define model parameters"
   ]
  },
  {
   "cell_type": "code",
   "execution_count": 1,
   "metadata": {
    "ExecuteTime": {
     "end_time": "2025-03-17T10:34:43.577740900Z",
     "start_time": "2025-03-17T10:34:43.561057600Z"
    }
   },
   "outputs": [],
   "source": [
    "_l = 600.0  # length of the beam [mm]\n",
    "_E = 210e3  # Young's modulus [N/mm^2]\n",
    "\n",
    "# cross-section parameters (see the sketch above)\n",
    "_b = 40.0  # cross section width [mm]\n",
    "_h = 60.0  # cross section height [mm]\n",
    "_s = 5.0  # cross section thickness [mm]\n",
    "_A = _b * _h - (_b - 2 * _s) * (_h - 2 * _s)  # cross-section area [mm2]\n",
    "_Ixx = _b * _h ** 3 / 12 - (_b - 2 * _s) * (_h - 2 * _s) ** 3 / 12  # moment of inertia about x-axis [mm4]\n",
    "_Iyy = _h * _b ** 3 / 12 - (_h - 2 * _s) * (_b - 2 * _s) ** 3 / 12  # moment of inertia about y-axis [mm4]\n",
    "\n",
    "# parameters of the applied boundary conditions (displacements and forces)\n",
    "_uv = 5.0  # vertical displacement applied to node 2 [mm]\n",
    "_fh = 100.0  # horizontal force applied to node 2 [N]"
   ]
  },
  {
   "cell_type": "markdown",
   "metadata": {},
   "source": [
    "Step 2: import YaFEM modules"
   ]
  },
  {
   "cell_type": "code",
   "execution_count": 2,
   "metadata": {
    "ExecuteTime": {
     "end_time": "2025-03-17T10:34:52.172455400Z",
     "start_time": "2025-03-17T10:34:43.580881600Z"
    }
   },
   "outputs": [],
   "source": [
    "from yafem.nodes import *\n",
    "from yafem.elem import *\n",
    "from yafem.model import *\n",
    "from yafem.simulation import *"
   ]
  },
  {
   "cell_type": "markdown",
   "metadata": {},
   "source": [
    "Step 3: create the FE model nodes"
   ]
  },
  {
   "cell_type": "code",
   "execution_count": 3,
   "metadata": {
    "ExecuteTime": {
     "end_time": "2025-03-17T10:34:53.661353Z",
     "start_time": "2025-03-17T10:34:52.179442Z"
    }
   },
   "outputs": [],
   "source": [
    "# nodal parameters\n",
    "nodes_pars = {'nodal_data': np.array([[1, 0.0, 0.0, 0.0],\n",
    "                                      [2, _l, 0.0, 0.0]])}\n",
    "\n",
    "# create the nodes\n",
    "nodes = nodes(nodes_pars)"
   ]
  },
  {
   "cell_type": "markdown",
   "metadata": {},
   "source": [
    "Step 4: create the FE model elements"
   ]
  },
  {
   "cell_type": "code",
   "execution_count": 4,
   "metadata": {
    "ExecuteTime": {
     "end_time": "2025-03-17T10:34:53.670598200Z",
     "start_time": "2025-03-17T10:34:53.663562800Z"
    }
   },
   "outputs": [],
   "source": [
    "# parameters of the element\n",
    "beam3d_pars = {}\n",
    "beam3d_pars['shape'] = 'generic'\n",
    "beam3d_pars['A'] = _A\n",
    "beam3d_pars['Ixx'] = _Ixx\n",
    "beam3d_pars['Iyy'] = _Iyy\n",
    "beam3d_pars['E'] = _E\n",
    "beam3d_pars['Jv'] = beam3d_pars['Ixx'] + beam3d_pars['Iyy']\n",
    "beam3d_pars['nodal_labels'] = [1, 2]\n",
    "\n",
    "# initialization of the element list\n",
    "elements = [beam3d(nodes, beam3d_pars)]"
   ]
  },
  {
   "cell_type": "markdown",
   "metadata": {},
   "source": [
    "Step 5: create the FE model"
   ]
  },
  {
   "cell_type": "code",
   "execution_count": 5,
   "metadata": {
    "ExecuteTime": {
     "end_time": "2025-03-17T10:34:54.634132400Z",
     "start_time": "2025-03-17T10:34:53.675096600Z"
    }
   },
   "outputs": [
    {
     "data": {
      "text/plain": "array([[2, 1],\n       [2, 2],\n       [2, 3],\n       [2, 4],\n       [2, 5],\n       [2, 6]])"
     },
     "execution_count": 5,
     "metadata": {},
     "output_type": "execute_result"
    }
   ],
   "source": [
    "# model parameters\n",
    "model_pars = {}\n",
    "\n",
    "# constrained degrees of freedom (all dofs of node 1)\n",
    "model_pars['dofs_c'] = np.array([[1, 1], [1, 2], [1, 3], [1, 4], [1, 5], [1, 6]])\n",
    "\n",
    "# degrees of freedom subjected to force history (horizontal dofs of node 2)\n",
    "model_pars['dofs_f'] = np.array([[2, 1]])\n",
    "\n",
    "# degrees of freedom subjected to displacement history (vertical dofs of node 2)\n",
    "model_pars['dofs_u'] = np.array([[2, 3]])\n",
    "\n",
    "# force history (21 steps)\n",
    "model_pars['g_f'] = np.linspace(0, _fh, 21)\n",
    "\n",
    "# displacement history (21 steps)\n",
    "model_pars['g_u'] = np.linspace(0, _uv, 21)\n",
    "\n",
    "# create the model\n",
    "model = model(nodes, elements, model_pars)\n",
    "\n",
    "# list of model dofs (left column is node number, right column is the dof number)\n",
    "model.dofs"
   ]
  },
  {
   "cell_type": "markdown",
   "metadata": {},
   "source": [
    "Step 6: create and execute the simulation"
   ]
  },
  {
   "cell_type": "code",
   "execution_count": 6,
   "metadata": {
    "ExecuteTime": {
     "end_time": "2025-03-17T10:34:54.680151600Z",
     "start_time": "2025-03-17T10:34:54.627737800Z"
    }
   },
   "outputs": [
    {
     "name": "stdout",
     "output_type": "stream",
     "text": [
      "step 1 converged in 1 iterations with residual 0.0\n",
      "step 2 converged in 1 iterations with residual 0.0\n",
      "step 3 converged in 1 iterations with residual 2.533397151339718e-16\n",
      "step 4 converged in 1 iterations with residual 1.948855009542913e-13\n",
      "step 5 converged in 1 iterations with residual 1.5606478487777726e-13\n",
      "step 6 converged in 1 iterations with residual 2.6028271925092146e-13\n",
      "step 7 converged in 1 iterations with residual 2.2320744978286588e-13\n",
      "step 8 converged in 1 iterations with residual 1.9079615774162621e-16\n",
      "step 9 converged in 1 iterations with residual 1.6966474305040974e-16\n",
      "step 10 converged in 1 iterations with residual 1.563796169202795e-13\n",
      "step 11 converged in 1 iterations with residual 1.4219116427499392e-13\n",
      "step 12 converged in 1 iterations with residual 3.8191797009497927e-16\n",
      "step 13 converged in 1 iterations with residual 2.406963186199065e-13\n",
      "step 14 converged in 1 iterations with residual 2.2352717717389e-13\n",
      "step 15 converged in 1 iterations with residual 2.0864549570902791e-13\n",
      "step 16 converged in 1 iterations with residual 2.9849471043914797e-18\n",
      "step 17 converged in 1 iterations with residual 1.7981249701928079e-16\n",
      "step 18 converged in 1 iterations with residual 1.6985483669213916e-16\n",
      "step 19 converged in 1 iterations with residual 1.609049574579652e-16\n",
      "step 20 converged in 1 iterations with residual 1.5286782305417804e-16\n",
      "Displacements:  [[ 0.00000000e+00  1.58730159e-05  3.17460317e-05  4.76190476e-05\n",
      "   6.34920635e-05  7.93650794e-05  9.52380952e-05  1.11111111e-04\n",
      "   1.26984127e-04  1.42857143e-04  1.58730159e-04  1.74603175e-04\n",
      "   1.90476190e-04  2.06349206e-04  2.22222222e-04  2.38095238e-04\n",
      "   2.53968254e-04  2.69841270e-04  2.85714286e-04  3.01587302e-04\n",
      "   3.17460317e-04]\n",
      " [ 0.00000000e+00  0.00000000e+00  0.00000000e+00  0.00000000e+00\n",
      "   0.00000000e+00  0.00000000e+00  0.00000000e+00  0.00000000e+00\n",
      "   0.00000000e+00  0.00000000e+00  0.00000000e+00  0.00000000e+00\n",
      "   0.00000000e+00  0.00000000e+00  0.00000000e+00  0.00000000e+00\n",
      "   0.00000000e+00  0.00000000e+00  0.00000000e+00  0.00000000e+00\n",
      "   0.00000000e+00]\n",
      " [ 0.00000000e+00  2.50000000e-01  5.00000000e-01  7.50000000e-01\n",
      "   1.00000000e+00  1.25000000e+00  1.50000000e+00  1.75000000e+00\n",
      "   2.00000000e+00  2.25000000e+00  2.50000000e+00  2.75000000e+00\n",
      "   3.00000000e+00  3.25000000e+00  3.50000000e+00  3.75000000e+00\n",
      "   4.00000000e+00  4.25000000e+00  4.50000000e+00  4.75000000e+00\n",
      "   5.00000000e+00]\n",
      " [ 0.00000000e+00  0.00000000e+00  0.00000000e+00  0.00000000e+00\n",
      "   0.00000000e+00  0.00000000e+00  0.00000000e+00  0.00000000e+00\n",
      "   0.00000000e+00  0.00000000e+00  0.00000000e+00  0.00000000e+00\n",
      "   0.00000000e+00  0.00000000e+00  0.00000000e+00  0.00000000e+00\n",
      "   0.00000000e+00  0.00000000e+00  0.00000000e+00  0.00000000e+00\n",
      "   0.00000000e+00]\n",
      " [ 0.00000000e+00 -6.25000000e-04 -1.25000000e-03 -1.87500000e-03\n",
      "  -2.50000000e-03 -3.12500000e-03 -3.75000000e-03 -4.37500000e-03\n",
      "  -5.00000000e-03 -5.62500000e-03 -6.25000000e-03 -6.87500000e-03\n",
      "  -7.50000000e-03 -8.12500000e-03 -8.75000000e-03 -9.37500000e-03\n",
      "  -1.00000000e-02 -1.06250000e-02 -1.12500000e-02 -1.18750000e-02\n",
      "  -1.25000000e-02]\n",
      " [ 0.00000000e+00  0.00000000e+00  0.00000000e+00  0.00000000e+00\n",
      "   0.00000000e+00  0.00000000e+00  0.00000000e+00  0.00000000e+00\n",
      "   0.00000000e+00  0.00000000e+00  0.00000000e+00  0.00000000e+00\n",
      "   0.00000000e+00  0.00000000e+00  0.00000000e+00  0.00000000e+00\n",
      "   0.00000000e+00  0.00000000e+00  0.00000000e+00  0.00000000e+00\n",
      "   0.00000000e+00]]\n",
      "Applied forces:  [[   0.          297.13541667  594.27083333  891.40625    1188.54166667\n",
      "  1485.67708333 1782.8125     2079.94791667 2377.08333333 2674.21875\n",
      "  2971.35416667 3268.48958333 3565.625      3862.76041667 4159.89583333\n",
      "  4457.03125    4754.16666667 5051.30208333 5348.4375     5645.57291667\n",
      "  5942.70833333]]\n",
      "Restoring forces:  [[ 0.00000000e+00  5.00000000e+00  1.00000000e+01  1.50000000e+01\n",
      "   2.00000000e+01  2.50000000e+01  3.00000000e+01  3.50000000e+01\n",
      "   4.00000000e+01  4.50000000e+01  5.00000000e+01  5.50000000e+01\n",
      "   6.00000000e+01  6.50000000e+01  7.00000000e+01  7.50000000e+01\n",
      "   8.00000000e+01  8.50000000e+01  9.00000000e+01  9.50000000e+01\n",
      "   1.00000000e+02]\n",
      " [ 0.00000000e+00  0.00000000e+00  0.00000000e+00  0.00000000e+00\n",
      "   0.00000000e+00  0.00000000e+00  0.00000000e+00  0.00000000e+00\n",
      "   0.00000000e+00  0.00000000e+00  0.00000000e+00  0.00000000e+00\n",
      "   0.00000000e+00  0.00000000e+00  0.00000000e+00  0.00000000e+00\n",
      "   0.00000000e+00  0.00000000e+00  0.00000000e+00  0.00000000e+00\n",
      "   0.00000000e+00]\n",
      " [ 0.00000000e+00  2.97135417e+02  5.94270833e+02  8.91406250e+02\n",
      "   1.18854167e+03  1.48567708e+03  1.78281250e+03  2.07994792e+03\n",
      "   2.37708333e+03  2.67421875e+03  2.97135417e+03  3.26848958e+03\n",
      "   3.56562500e+03  3.86276042e+03  4.15989583e+03  4.45703125e+03\n",
      "   4.75416667e+03  5.05130208e+03  5.34843750e+03  5.64557292e+03\n",
      "   5.94270833e+03]\n",
      " [ 0.00000000e+00  0.00000000e+00  0.00000000e+00  0.00000000e+00\n",
      "   0.00000000e+00  0.00000000e+00  0.00000000e+00  0.00000000e+00\n",
      "   0.00000000e+00  0.00000000e+00  0.00000000e+00  0.00000000e+00\n",
      "   0.00000000e+00  0.00000000e+00  0.00000000e+00  0.00000000e+00\n",
      "   0.00000000e+00  0.00000000e+00  0.00000000e+00  0.00000000e+00\n",
      "   0.00000000e+00]\n",
      " [ 0.00000000e+00  0.00000000e+00  0.00000000e+00  0.00000000e+00\n",
      "   2.32830644e-10  2.32830644e-10 -4.65661287e-10  4.65661287e-10\n",
      "   0.00000000e+00  0.00000000e+00  4.65661287e-10  4.65661287e-10\n",
      "   0.00000000e+00  9.31322575e-10 -9.31322575e-10  9.31322575e-10\n",
      "   0.00000000e+00  0.00000000e+00  0.00000000e+00  0.00000000e+00\n",
      "   0.00000000e+00]\n",
      " [ 0.00000000e+00  0.00000000e+00  0.00000000e+00  0.00000000e+00\n",
      "   0.00000000e+00  0.00000000e+00  0.00000000e+00  0.00000000e+00\n",
      "   0.00000000e+00  0.00000000e+00  0.00000000e+00  0.00000000e+00\n",
      "   0.00000000e+00  0.00000000e+00  0.00000000e+00  0.00000000e+00\n",
      "   0.00000000e+00  0.00000000e+00  0.00000000e+00  0.00000000e+00\n",
      "   0.00000000e+00]]\n"
     ]
    }
   ],
   "source": [
    "# simulation parameters\n",
    "simulation_pars = {}\n",
    "\n",
    "# create the simulation\n",
    "my_simulation = simulation(model, simulation_pars)\n",
    "\n",
    "# perform static analysis (u: displacements, l: applied forces, r: restoring force)\n",
    "[u, l, r] = my_simulation.static_analysis()\n",
    "\n",
    "print(\"Displacements: \", u)\n",
    "print(\"Applied forces: \", l)\n",
    "print(\"Restoring forces: \", r)"
   ]
  },
  {
   "cell_type": "markdown",
   "metadata": {},
   "source": [
    "Step 7: post-process the results"
   ]
  },
  {
   "cell_type": "code",
   "execution_count": 7,
   "metadata": {
    "ExecuteTime": {
     "end_time": "2025-03-17T10:34:55.026489500Z",
     "start_time": "2025-03-17T10:34:54.671237400Z"
    }
   },
   "outputs": [
    {
     "data": {
      "text/plain": "5942.708333333334"
     },
     "execution_count": 7,
     "metadata": {},
     "output_type": "execute_result"
    },
    {
     "data": {
      "text/plain": "<Figure size 640x480 with 1 Axes>",
      "image/png": "[encoded data removed]"
     },
     "metadata": {},
     "output_type": "display_data"
    }
   ],
   "source": [
    "# First Graph\n",
    "plt.plot(u[model.find_dofs([[2, 3]]).squeeze(), :], l[0, :])\n",
    "plt.xlabel('vertical displacement [mm]')\n",
    "plt.ylabel('vertical force [N]')\n",
    "plt.title('Graph 1: Vertical Displacement vs Vertical Force')\n",
    "plt.grid()\n",
    "\n",
    "# this is done to check the correctness of the results\n",
    "_kb = 3 * _E * _Ixx / _l ** 3  # theoretical bendind stiffness\n",
    "_fv_max = _kb * _uv  # theoretical maximum vertical force\n",
    "_fv_max"
   ]
  },
  {
   "cell_type": "markdown",
   "metadata": {},
   "source": [
    "Graph 1 plots the relationship between the vertical displacement and the vertical force applied to the beam. The vertical displacement is measured at node 2 in the finite-element model, and the corresponding vertical force is plotted."
   ]
  },
  {
   "cell_type": "code",
   "execution_count": 8,
   "metadata": {
    "ExecuteTime": {
     "end_time": "2025-03-17T10:34:55.210847500Z",
     "start_time": "2025-03-17T10:34:55.023222100Z"
    }
   },
   "outputs": [
    {
     "data": {
      "text/plain": "0.00031746031746031746"
     },
     "execution_count": 8,
     "metadata": {},
     "output_type": "execute_result"
    },
    {
     "data": {
      "text/plain": "<Figure size 640x480 with 1 Axes>",
      "image/png": "[encoded data removed]"
     },
     "metadata": {},
     "output_type": "display_data"
    }
   ],
   "source": [
    "# Second Graph\n",
    "plt.plot(u[model.find_dofs([[2, 1]]).squeeze(), :], model.g_f[0, :])\n",
    "plt.xlabel('horizontal displacement [mm]')\n",
    "plt.ylabel('horizontal force [N]')\n",
    "plt.title('Graph 2: Horizontal Displacement vs Horizontal Force')\n",
    "plt.grid()\n",
    "\n",
    "# checks the correctness of the results\n",
    "_ka = _E * _A / _l  # theoretical axial stiffness\n",
    "_uh_max = _fh / _ka  # theoretical maximum horizontal displacement\n",
    "_uh_max"
   ]
  },
  {
   "cell_type": "markdown",
   "metadata": {},
   "source": [
    "Graph 2 plots the relationship between the horizontal displacement and the horizontal force applied to the beam. The horizontal displacement is measured at node 2 in the finite-element model, and the corresponding horizontal force is plotted."
   ]
  }
 ],
 "metadata": {
  "kernelspec": {
   "display_name": "Python 3",
   "language": "python",
   "name": "python3"
  },
  "language_info": {
   "codemirror_mode": {
    "name": "ipython",
    "version": 3
   },
   "file_extension": ".py",
   "mimetype": "text/x-python",
   "name": "python",
   "nbconvert_exporter": "python",
   "pygments_lexer": "ipython3",
   "version": "3.10.0"
  }
 },
 "nbformat": 4,
 "nbformat_minor": 2
}
