{
 "cells": [
  {
   "cell_type": "markdown",
   "metadata": {},
   "source": [
    "# Test bench 2-dofs case study\n",
    "\n",
    "This test bench consists of a steel frame equipped with two electro-mechanical actuator + force transducer. The horizontal actuator applies a force fh [N] to the beam tip and measures the corresponding displacement uh [mm]. The vertical actuator applies a displacement uv [mm] to the beam tip and measures the corresponding reaction force fv [N].\n",
    "\n",
    "<img src=\"assets\\test_bench_2dof.jpg\" alt=\"Test Bench 1-DoF\" height=\"500\">\n",
    "\n",
    "Below is a schematic of the setup with main dimensions in [mm] and indication of forces/displacements, which has to be used to produce a finite-element model. For each part of the test bench (frame, supports and specimen) cross-sections are given with main dimensions. All parts are made of steel (elastic modulus $E=210e3$ MPa), expect for the specimen, which is made in aluminum (elastic modulus $E=70e3$ MPa)\n",
    "\n",
    "<img src=\"assets\\test_bench_2dof_CAD.png\" alt=\"Test Bench 1-DoF\" height=\"500\">\n",
    "\n",
    "As you can see, the figure already reports a tentative numbering of nodes (1-12), which you can use to define the finite-element model. The coordinates of each node, shall be expressed w.r.t. coordinate system x-y-z and computed based on the dimensions of the drawing.\n",
    "\n",
    "The following loadigs are applied to the specimen:\n",
    "\n",
    "$u_v(t) = 20 \\sin(4\\pi t)$ [mm]\n",
    "\n",
    "$f_h(t) = 100 \\sin(2\\pi t)$ [N]\n",
    "\n",
    "The corresponding $f_v(t)$ and $u_h(t)$ are measured.\n",
    "\n",
    "The bending stiffness $K_b$ of the specimen defines the proportionality between $u_v$ and $f_v$:\n",
    "\n",
    "$f_v = K_b u_v$\n",
    "\n",
    "The axial stiffness $K_a$ of the specimen defines the proportionality between $u_h$ and $f_h$:\n",
    "\n",
    "$f_h = K_a u_h$\n",
    "\n",
    "# Assignment\n",
    "In this project both DIGITAL and PHYSICAL TWINS are represented by the same finite-element model:\n",
    "* The PHYSICAL TWIN is simulated considering that actual material for the specimen, which is aluminum (elastic modulus $E=70e3$ MPa).\n",
    "* The DIGITAL TWIN assumes an initial guess for the material parameters of the specimen, which is close to aluminum (elastic modulus $E=100e3$ MPa) but not exact.\n",
    "* A \"model calibration\" service shall be developed to estimate the correct value for the elastic modulus of the specimen, by comparing the force displacement relationships $f_h = K_a u_h$ and $f_v = K_b u_v$ between DIGITAL TWIN and PHYSICAL TWIN.\n",
    "* In this project, 1D elements (beam) are sufficient to construct the finite-element model of each of the selected test bench."
   ]
  },
  {
   "cell_type": "markdown",
   "metadata": {},
   "source": [
    "# How to build a finite-element model in YaFEM\n",
    "\n",
    "YaFEM (Yet another finite-element modeling toolbox) is a toolbox to create simple finite-element models made of 1D, 2D and 3D elements.\n",
    "\n",
    "In the following, it is demonstrated how to build the finite-element model for a simple cantilever beam subjected to a vertical tip displacement and horizontal tip force."
   ]
  },
  {
   "cell_type": "markdown",
   "metadata": {},
   "source": [
    "<img src=\"assets\\cantilever_beam.jpg\" alt=\"Cantilever beam example\" height=\"200\">"
   ]
  },
  {
   "cell_type": "markdown",
   "metadata": {},
   "source": [
    "Step 1: define model parameters"
   ]
  },
  {
   "cell_type": "code",
   "execution_count": 1,
   "metadata": {},
   "outputs": [],
   "source": [
    "_l = 600.0 # length of the beam [mm]\n",
    "_E = 210e3 # Young's modulus [N/mm^2]\n",
    "\n",
    "# cross-section parameters (see the sketch above)\n",
    "_b = 40.0 # cross section width [mm]\n",
    "_h = 60.0 # cross section height [mm]\n",
    "_s = 5.0 # cross section thickness [mm]\n",
    "_A = _b*_h - (_b-2*_s) * (_h-2*_s) # cross-section area [mm2]\n",
    "_Ixx = _b*_h**3/12 - (_b-2*_s)*(_h-2*_s)**3/12 # moment of inertia about x-axis [mm4]\n",
    "_Iyy = _h*_b**3/12 - (_h-2*_s)*(_b-2*_s)**3/12 # moment of inertia about y-axis [mm4]\n",
    "\n",
    "# parameters of the applied boundary conditions (displacements and forces)\n",
    "_uv = 5.0 # vertical displacement applied to node 2 [mm]\n",
    "_fh = 100.0 # horizontal force applied to node 2 [N]"
   ]
  },
  {
   "cell_type": "markdown",
   "metadata": {},
   "source": [
    "Step 2: import YaFEM modules"
   ]
  },
  {
   "cell_type": "code",
   "execution_count": 3,
   "metadata": {},
   "outputs": [],
   "source": [
    "from yafem.nodes import *\n",
    "from yafem.elem import *\n",
    "from yafem.model import *\n",
    "from yafem.simulation import *  "
   ]
  },
  {
   "cell_type": "markdown",
   "metadata": {},
   "source": [
    "Step 3: create the FE model nodes"
   ]
  },
  {
   "cell_type": "code",
   "execution_count": 4,
   "metadata": {},
   "outputs": [],
   "source": [
    "# nodal parameters\n",
    "my_nodes_pars = {}\n",
    "my_nodes_pars['nodal_data'] = np.array([[1,0.0,0.0,0.0],\n",
    "                                        [2,_l,0.0,0.0]])\n",
    "\n",
    "# create the nodes\n",
    "my_nodes = nodes(my_nodes_pars)"
   ]
  },
  {
   "cell_type": "markdown",
   "metadata": {},
   "source": [
    "Step 4: create the FE model elements"
   ]
  },
  {
   "cell_type": "code",
   "execution_count": 5,
   "metadata": {},
   "outputs": [],
   "source": [
    "# parameters of the element\n",
    "my_beam3d_pars = {}\n",
    "my_beam3d_pars['shape'] = 'generic'\n",
    "my_beam3d_pars['A'] = _A\n",
    "my_beam3d_pars['Ixx'] = _Ixx\n",
    "my_beam3d_pars['Iyy'] = _Iyy\n",
    "my_beam3d_pars['E'] = _E\n",
    "my_beam3d_pars['Jv'] = my_beam3d_pars['Ixx'] + my_beam3d_pars['Iyy']\n",
    "my_beam3d_pars['nodal_labels'] = [1,2]\n",
    "\n",
    "# initialization of the element list\n",
    "my_elements = []\n",
    "\n",
    "# add one beam3d element to the list\n",
    "my_elements.append(beam3d(my_nodes,my_beam3d_pars))"
   ]
  },
  {
   "cell_type": "markdown",
   "metadata": {},
   "source": [
    "Step 5: create the FE model"
   ]
  },
  {
   "cell_type": "code",
   "execution_count": 6,
   "metadata": {},
   "outputs": [
    {
     "data": {
      "text/plain": [
       "array([[2, 1],\n",
       "       [2, 2],\n",
       "       [2, 3],\n",
       "       [2, 4],\n",
       "       [2, 5],\n",
       "       [2, 6]])"
      ]
     },
     "execution_count": 6,
     "metadata": {},
     "output_type": "execute_result"
    }
   ],
   "source": [
    "# model parameters\n",
    "my_model_pars = {}\n",
    "\n",
    "# constrained degrees of freedom (all dofs of node 1)\n",
    "my_model_pars['dofs_c'] = np.array([[1,1],[1,2],[1,3],[1,4],[1,5],[1,6]])\n",
    "\n",
    "# degrees of freedom subjected to force history (horizontal dofs of node 2)\n",
    "my_model_pars['dofs_f'] = np.array([[2,1]])\n",
    "\n",
    "# degrees of freedom subjected to displacement history (vertical dofs of node 2)\n",
    "my_model_pars['dofs_u'] = np.array([[2,3]])\n",
    "\n",
    "# force history (21 steps)\n",
    "my_model_pars['g_f'] = np.linspace(0,_fh,21)\n",
    "\n",
    "# displacement history (21 steps)\n",
    "my_model_pars['g_u'] = np.linspace(0,_uv,21)\n",
    "\n",
    "# create the model\n",
    "my_model = model(my_nodes,my_elements,my_model_pars)\n",
    "\n",
    "# list of model dofs (left column is node number, right column is the dof number)\n",
    "my_model.dofs"
   ]
  },
  {
   "cell_type": "markdown",
   "metadata": {},
   "source": [
    "Step 6: create and execute the simulation"
   ]
  },
  {
   "cell_type": "code",
   "execution_count": 7,
   "metadata": {},
   "outputs": [
    {
     "name": "stdout",
     "output_type": "stream",
     "text": [
      "step 1 converged in 1 iterations with residual 0.0\n",
      "step 2 converged in 1 iterations with residual 0.0\n",
      "step 3 converged in 1 iterations with residual 2.533397151339718e-16\n",
      "step 4 converged in 1 iterations with residual 1.948855009542913e-13\n",
      "step 5 converged in 1 iterations with residual 1.5606478487777726e-13\n",
      "step 6 converged in 1 iterations with residual 2.6028271925092146e-13\n",
      "step 7 converged in 1 iterations with residual 2.2320744978286588e-13\n",
      "step 8 converged in 1 iterations with residual 1.9079615774162621e-16\n",
      "step 9 converged in 1 iterations with residual 1.6966474305040974e-16\n",
      "step 10 converged in 1 iterations with residual 1.563796169202795e-13\n",
      "step 11 converged in 1 iterations with residual 1.4219116427499392e-13\n",
      "step 12 converged in 1 iterations with residual 3.8191797009497927e-16\n",
      "step 13 converged in 1 iterations with residual 2.406963186199065e-13\n",
      "step 14 converged in 1 iterations with residual 2.2352717717389e-13\n",
      "step 15 converged in 1 iterations with residual 2.0864549570902791e-13\n",
      "step 16 converged in 1 iterations with residual 2.9849471043914797e-18\n",
      "step 17 converged in 1 iterations with residual 1.7981249701928079e-16\n",
      "step 18 converged in 1 iterations with residual 1.6985483669213916e-16\n",
      "step 19 converged in 1 iterations with residual 1.609049574579652e-16\n",
      "step 20 converged in 1 iterations with residual 1.5286782305417804e-16\n"
     ]
    }
   ],
   "source": [
    "# simulation parameters\n",
    "simulation_pars = {}\n",
    "\n",
    "# create the simulation\n",
    "my_simulation = simulation(my_model,simulation_pars)\n",
    "\n",
    "# perform static analysis (u: displacements, l: applied forces, r: restoring force)\n",
    "[u,l,r] = my_simulation.static_analysis()"
   ]
  },
  {
   "cell_type": "markdown",
   "metadata": {},
   "source": [
    "Step 7: post-process the results"
   ]
  },
  {
   "cell_type": "code",
   "execution_count": 8,
   "metadata": {},
   "outputs": [
    {
     "data": {
      "text/plain": [
       "5942.708333333334"
      ]
     },
     "execution_count": 8,
     "metadata": {},
     "output_type": "execute_result"
    },
    {
     "data": {
      "image/png": "[encoded data removed]",
      "text/plain": [
       "<Figure size 640x480 with 1 Axes>"
      ]
     },
     "metadata": {},
     "output_type": "display_data"
    }
   ],
   "source": [
    "plt.plot(u[my_model.find_dofs([[2,3]]).squeeze(),:],l[0,:])\n",
    "plt.xlabel('vertical displacement [mm]')\n",
    "plt.ylabel('vertical force [N]')\n",
    "plt.grid()\n",
    "\n",
    "# this is done to check the correctness of the results\n",
    "_kb = 3*_E*_Ixx/_l**3 # theoretical bendind stiffness\n",
    "_fv_max = _kb*_uv # theoretical maximum vertical force\n",
    "_fv_max"
   ]
  },
  {
   "cell_type": "code",
   "execution_count": 9,
   "metadata": {},
   "outputs": [
    {
     "data": {
      "text/plain": [
       "0.00031746031746031746"
      ]
     },
     "execution_count": 9,
     "metadata": {},
     "output_type": "execute_result"
    },
    {
     "data": {
      "image/png": "[encoded data removed]",
      "text/plain": [
       "<Figure size 640x480 with 1 Axes>"
      ]
     },
     "metadata": {},
     "output_type": "display_data"
    }
   ],
   "source": [
    "plt.plot(u[my_model.find_dofs([[2,1]]).squeeze(),:],my_model.g_f[0,:])\n",
    "plt.xlabel('horizontal displacement [mm]')\n",
    "plt.ylabel('horizontal force [N]')\n",
    "plt.grid()\n",
    "\n",
    "# checks the correctness of the results\n",
    "_ka = _E*_A/_l # theoretical axial stiffness\n",
    "_uh_max = _fh/_ka # theoretical maximum horizontal displacement\n",
    "_uh_max"
   ]
  },
  {
   "cell_type": "code",
   "execution_count": null,
   "metadata": {},
   "outputs": [],
   "source": []
  },
  {
   "cell_type": "code",
   "execution_count": null,
   "metadata": {},
   "outputs": [],
   "source": []
  }
 ],
 "metadata": {
  "kernelspec": {
   "display_name": "Python 3",
   "language": "python",
   "name": "python3"
  },
  "language_info": {
   "codemirror_mode": {
    "name": "ipython",
    "version": 3
   },
   "file_extension": ".py",
   "mimetype": "text/x-python",
   "name": "python",
   "nbconvert_exporter": "python",
   "pygments_lexer": "ipython3",
   "version": "3.10.0"
  }
 },
 "nbformat": 4,
 "nbformat_minor": 2
}
