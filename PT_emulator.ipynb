{
 "cells": [
  {
   "cell_type": "markdown",
   "metadata": {},
   "source": [
    "# Deploying the Hybrid Test Bench Emulator Service\n",
    "\n",
    "In this notebook we will deploy a service that emulates the Hybrid Test Bench PT, and subsequently create a service to store data into the time series database.\n",
    "\n",
    "To get our service running do the followning:\n",
    "1. Make sure you're in the root of our repository ([hybrid-test-bench](./))\n",
    "2. Run the following command: \n",
    "\n",
    "```bash\n",
    "    python -m startup.start_services\n",
    "   ``` \n",
    "\n",
    "This will start both InfluxDB and RabbitMQ services. This way we can have a consistent environment accross all machines.\n",
    "\n",
    "Access, usernames and passwords are the following:\n",
    "\n",
    "- **InfluxDB:**\n",
    "  - Local site: [http://localhost:8086/](http://localhost:8086/)\n",
    "  - User: bench\n",
    "  - Password: hybridtestbench\n",
    "\n",
    "- **RabbitMQ:**\n",
    "  - Local site: [http://localhost:15672/](http://localhost:15672/)\n",
    "  - User: bench\n",
    "  - Password: bench\n",
    "\n",
    "Now you should be able to access these two services, and we'll continue from here."
   ]
  },
  {
   "cell_type": "markdown",
   "metadata": {},
   "source": [
    "## Hybrid Test Bench (PT) Emulator Service\n",
    "\n",
    "The interface of the emulator is very similar to the example for the Incubator ([IncubatorDTCourse\\1-Incubator-Service\\1-Incubator-Service.ipynb](..\\1-Incubator-Service\\1-Incubator-Service.ipynb)).\n",
    "\n",
    "Our service will produce a RabbitMQ message every 3 seconds, and that message will contain data that matches exactly the data produced by the real Hybrid Test Bench - at least that is what we are trying to replicate.\n",
    "\n",
    "The main difference is that, unlike the real Hybrid Test Bench, we will have to code the behavior that corresponds to applying a force on a specific beam. We will trigger this behavior using a RabbitMQ message that the emulator will listen for. This will lead to displacement, which we will show.\n"
   ]
  },
  {
   "cell_type": "code",
   "execution_count": 1,
   "metadata": {
    "ExecuteTime": {
     "end_time": "2025-03-28T15:25:21.276125800Z",
     "start_time": "2025-03-28T15:25:21.252297Z"
    }
   },
   "outputs": [],
   "source": [
    "#%%writefile logging.conf - we need to figure out if we need this later?\n"
   ]
  },
  {
   "cell_type": "code",
   "execution_count": 2,
   "metadata": {
    "ExecuteTime": {
     "end_time": "2025-03-28T15:25:21.277140800Z",
     "start_time": "2025-03-28T15:25:21.264119700Z"
    }
   },
   "outputs": [],
   "source": [
    "import sys\n",
    "import os\n",
    "\n",
    "# Get the current working directory. Should be hybrid-test-bench\n",
    "current_dir = os.getcwd()\n",
    "\n",
    "assert os.path.basename(current_dir) == 'hybrid-test-bench', 'Current directory is not hybrid-test-bench'\n",
    "\n",
    "# Get the parent directory. Should be the root of the repository\n",
    "parent_dir = current_dir\n",
    "\n",
    "# The root of the repo should contain the startup folder. Otherwise something went wrong during the inital setup.\n",
    "assert os.path.exists(os.path.join(parent_dir, 'startup')), 'startup folder not found in the repository root'\n",
    "\n",
    "# The root of the repo should contain the installation folder. Otherwise something went wrong during the inital setup.\n",
    "assert os.path.exists(os.path.join(parent_dir, 'installation')), 'installation folder not found in the repository root'\n",
    "\n",
    "bench_startup_dir = os.path.join(parent_dir, 'startup')\n",
    "\n",
    "assert os.path.exists(bench_startup_dir), 'hybrid-test-bench startup directory not found'\n",
    "\n",
    "# Add the parent directory to sys.path\n",
    "sys.path.append(bench_startup_dir)"
   ]
  },
  {
   "cell_type": "code",
   "execution_count": 3,
   "metadata": {
    "ExecuteTime": {
     "end_time": "2025-03-28T15:25:21.291489600Z",
     "start_time": "2025-03-28T15:25:21.272634200Z"
    }
   },
   "outputs": [
    {
     "name": "stdout",
     "output_type": "stream",
     "text": [
      "Writing pt_emulator_service.py\n"
     ]
    }
   ],
   "source": [
    "%%writefile pt_emulator_service.py\n",
    "\n",
    "# Configure python path to load hybrid test bench modules\n",
    "import sys\n",
    "import os\n",
    "import logging\n",
    "import logging.config\n",
    "import time\n",
    "import numpy as np\n",
    "\n",
    "# Get the current working directory. Should be hybrid-test-bench\n",
    "current_dir = os.getcwd()\n",
    "\n",
    "assert os.path.basename(current_dir) == 'hybrid-test-bench', 'Current directory is not hybrid-test-bench'\n",
    "\n",
    "# Get the parent directory. Should be the root of the repository\n",
    "parent_dir = current_dir\n",
    "\n",
    "from communication.server.rabbitmq import Rabbitmq\n",
    "from communication.shared.protocol import ROUTING_KEY_STATE,ROUTING_KEY_FORCES\n",
    "import pt_model as pt_model\n",
    "\n",
    "\n",
    "class PTEmulatorService:\n",
    "    \n",
    "    def __init__(self, rabbitmq_config):\n",
    "\n",
    "        self._rabbitmq = Rabbitmq(**rabbitmq_config)\n",
    "        self._l = logging.getLogger(\"PTEmulatorService\")\n",
    "\n",
    "    def setup(self):\n",
    "        self._rabbitmq.connect_to_server()\n",
    "\n",
    "        # Declare local queues for the force messages\n",
    "        self.forces_queue_name = self._rabbitmq.declare_local_queue(routing_key=ROUTING_KEY_FORCES)\n",
    "\n",
    "        self._l.info(f\"PTEmulatorService setup complete.\")\n",
    "\n",
    "    def _read_forces(self):\n",
    "        msg = self._rabbitmq.get_message(self.forces_queue_name)\n",
    "        if msg is not None:\n",
    "            return msg[\"forces\"]\n",
    "        else:\n",
    "            return None\n",
    "\n",
    "    def emulate_pt(self):\n",
    "\n",
    "        # Call the main function or logic from the script\n",
    "        model = pt_model.PtModel()\n",
    "        u, l, r = model.run_simulation()\n",
    "\n",
    "        # Additional logic for the emulator can go here\n",
    "        self._l.info(\"PT script executed successfully.\")\n",
    "        \n",
    "    def send_state(self, time_start):\n",
    "        timestamp = time.time_ns()\n",
    "        # Publishes the new state\n",
    "        message = {\n",
    "            \"measurement\": \"emulator\",\n",
    "            \"time\": timestamp,\n",
    "            \"tags\": {\n",
    "                \"source\": \"emulator\"\n",
    "            },\n",
    "            \"fields\": {\n",
    "                \"id\": 29 # Just hardcoded for now, but should be the id of the PT in the system.\n",
    "            }\n",
    "        }\n",
    "\n",
    "        self._rabbitmq.send_message(ROUTING_KEY_STATE, message)\n",
    "        self._l.debug(f\"Message sent to {ROUTING_KEY_STATE}.\")\n",
    "        self._l.debug(message)\n",
    "    \n",
    "    def start_emulation(self):\n",
    "        # Start the emulation loop\n",
    "        self._l.info(\"Starting PTEmulator emulation loop.\")\n",
    "        while True:\n",
    "            time_start = time.time()\n",
    "            # Emulate the PT behavior\n",
    "            self.emulate_pt() \n",
    "            # Sleep until the next sample\n",
    "            time_end = time.time()\n",
    "            time_diff = time_end - time_start\n",
    "            if time_diff < self._execution_interval:\n",
    "                time.sleep(self._execution_interval - time_diff)\n",
    "            else:\n",
    "                self._l.warning(f\"Emulation loop took too long: {time_diff} seconds.\")\n",
    "    \n",
    "if __name__ == \"__main__\":\n",
    "    # Get utility functions to config logging and load configuration\n",
    "    from software.config import load_config\n",
    "    from pyhocon import ConfigFactory\n",
    "    \n",
    "    # Get path to the startup.conf file used in the hybrid test bench PT & DT:\n",
    "    startup_conf = os.path.join(os.path.dirname(os.getcwd()), 'software','startup.conf')\n",
    "    assert os.path.exists(startup_conf), 'startup.conf file not found'\n",
    "\n",
    "    # The startup.conf comes from the hybrid test bench repository.\n",
    "    config = ConfigFactory.parse_file(startup_conf)\n",
    "    \n",
    "    service = PTEmulatorService(\n",
    "        rabbitmq_config=config[\"rabbitmq\"])\n",
    "\n",
    "    service.setup()\n",
    "    \n",
    "    # Start the PTEmulatorService\n",
    "    service.start_emulation()"
   ]
  }
 ],
 "metadata": {
  "kernelspec": {
   "display_name": "Python 3",
   "language": "python",
   "name": "python3"
  },
  "language_info": {
   "codemirror_mode": {
    "name": "ipython",
    "version": 3
   },
   "file_extension": ".py",
   "mimetype": "text/x-python",
   "name": "python",
   "nbconvert_exporter": "python",
   "pygments_lexer": "ipython3",
   "version": "3.10.0"
  }
 },
 "nbformat": 4,
 "nbformat_minor": 2
}
