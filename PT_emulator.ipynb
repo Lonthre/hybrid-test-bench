{
 "cells": [
  {
   "cell_type": "markdown",
   "metadata": {},
   "source": [
    "# Deploying the Hybrid Test Bench Emulator Service\n",
    "\n",
    "In this notebook we will deploy a service that emulates the Hybrid Test Bench PT, and subsequently create a service to store data into the time series database.\n",
    "\n",
    "Before we start, comment out all services to avoid starting the other incubator services, which conflict with the ones you will create soon."
   ]
  },
  {
   "cell_type": "code",
   "execution_count": 4,
   "metadata": {},
   "outputs": [],
   "source": [
    "# Run: python -m startup.start_services.py\n",
    "\n",
    "# We need to reach a state where both RabbitMQ and InfluxDB are running. Currently they both work.\n",
    "# If you are having trouble, and the docker images don't raise, you need to delete the containers (in Docker Desktop) which are using it.\n",
    "\n",
    "# We also need to fix, so that it's our Docker image that is used, not the one from the Incubator. \n",
    "# The problem is that we don't know where and how the username and password are set - we should ask Claudio."
   ]
  },
  {
   "cell_type": "markdown",
   "metadata": {},
   "source": [
    "## Hybrid Test Bench (PT) Emulator Service\n",
    "\n",
    "The interface of the emulator is very similar to the example for the Incubator ([IncubatorDTCourse\\1-Incubator-Service\\1-Incubator-Service.ipynb](..\\1-Incubator-Service\\1-Incubator-Service.ipynb)).\n",
    "\n",
    "Our service will produce a RabbitMQ message every 3 seconds, and that message will contain data that matches exactly the data produced by the real Hybrid Test Bench - at least that is what we are trying to replicate.\n",
    "\n",
    "The main difference is that, unlike the real Hybrid Test Bench, we will have to code the behavior that corresponds to applying a force on a specific beam. We will trigger this behavior using a RabbitMQ message that the emulator will listen for. This will lead to displacement, which we will show.\n"
   ]
  },
  {
   "cell_type": "code",
   "execution_count": null,
   "metadata": {},
   "outputs": [],
   "source": [
    "#%%writefile logging.conf - we need to figure out if we need this?\n",
    "\"\"\" [loggers]\n",
    "keys=root,PTEmulatorService,IncubatorDataRecorderInflux\n",
    "\n",
    "[handlers]\n",
    "keys=consoleHandler,PTEmulatorServiceFileHandler,IncubatorDataRecorderInfluxFileHandler\n",
    "\n",
    "[formatters]\n",
    "keys=simpleFormatter\n",
    "\n",
    "[logger_root]\n",
    "level=DEBUG\n",
    "handlers=consoleHandler\n",
    "\n",
    "[logger_PTEmulatorService]\n",
    "level=DEBUG\n",
    "handlers=PTEmulatorServiceFileHandler\n",
    "qualname=PTEmulatorService\n",
    "propagate=0\n",
    "\n",
    "[logger_IncubatorDataRecorderInflux]\n",
    "level=DEBUG\n",
    "handlers=IncubatorDataRecorderInfluxFileHandler\n",
    "qualname=IncubatorDataRecorderInflux\n",
    "propagate=0\n",
    "\n",
    "[handler_consoleHandler]\n",
    "class=StreamHandler\n",
    "formatter=simpleFormatter\n",
    "args=(sys.stdout,)\n",
    "\n",
    "[handler_PTEmulatorServiceFileHandler]\n",
    "class=FileHandler\n",
    "formatter=simpleFormatter\n",
    "args=('PTEmulatorService.log', 'w')\n",
    "\n",
    "[handler_IncubatorDataRecorderInfluxFileHandler]\n",
    "class=FileHandler\n",
    "formatter=simpleFormatter\n",
    "args=('IncubatorDataRecorderInflux.log', 'w')\n",
    "\n",
    "[formatter_simpleFormatter]\n",
    "format=%(asctime)s.%(msecs)03d %(levelname)s %(name)s : %(message)s\n",
    "datefmt=%Y-%m-%d %H:%M:%S \"\"\""
   ]
  },
  {
   "cell_type": "code",
   "execution_count": null,
   "metadata": {},
   "outputs": [],
   "source": [
    "# Configure python path to load the hybrid test bench modules\n",
    "import sys\n",
    "import os\n",
    "\n",
    "# Get the current working directory. Should be hybrid-test-bench\n",
    "current_dir = os.getcwd()\n",
    "\n",
    "assert os.path.basename(current_dir) == 'hybrid-test-bench', 'Current directory is not hybrid-test-bench'\n",
    "\n",
    "# Get the parent directory. Should be the root of the repository\n",
    "parent_dir = current_dir\n",
    "\n",
    "# The root of the repo should contain the startup folder. Otherwise something went wrong during the inital setup.\n",
    "assert os.path.exists(os.path.join(parent_dir, 'startup')), 'startup folder not found in the repository root'\n",
    "\n",
    "# The root of the repo should contain the installation folder. Otherwise something went wrong during the inital setup.\n",
    "assert os.path.exists(os.path.join(parent_dir, 'installation')), 'installation folder not found in the repository root'\n",
    "\n",
    "# We don't need this for our case\n",
    "\"\"\" incubator_dt_software_dir = os.path.join(parent_dir, 'incubator_dt', 'software')\n",
    "\n",
    "assert os.path.exists(incubator_dt_software_dir), 'incubator_dt software directory not found'\n",
    "\n",
    "# Add the parent directory to sys.path\n",
    "sys.path.append(incubator_dt_software_dir) \"\"\""
   ]
  },
  {
   "cell_type": "code",
   "execution_count": null,
   "metadata": {},
   "outputs": [],
   "source": []
  }
 ],
 "metadata": {
  "kernelspec": {
   "display_name": "Python 3",
   "language": "python",
   "name": "python3"
  },
  "language_info": {
   "codemirror_mode": {
    "name": "ipython",
    "version": 3
   },
   "file_extension": ".py",
   "mimetype": "text/x-python",
   "name": "python",
   "nbconvert_exporter": "python",
   "pygments_lexer": "ipython3",
   "version": "3.10.0"
  }
 },
 "nbformat": 4,
 "nbformat_minor": 2
}
