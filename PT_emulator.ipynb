{
 "cells": [
  {
   "cell_type": "markdown",
   "metadata": {},
   "source": [
    "# Deploying the Hybrid Test Bench Emulator Service\n",
    "\n",
    "In this notebook we will deploy a service that emulates the Hybrid Test Bench PT, and subsequently create a service to store data into the time series database.\n",
    "\n",
    "To get our service running do the followning:\n",
    "1. Make sure you're in the root of our repository ([hybrid-test-bench](./))\n",
    "2. Run the following command: \n",
    "\n",
    "```bash\n",
    "    python -m startup.start_services\n",
    "   ``` \n",
    "\n",
    "This will start both InfluxDB and RabbitMQ services. This way we can have a consistent environment accross all machines.\n",
    "\n",
    "Access, usernames and passwords are the following:\n",
    "\n",
    "- **InfluxDB:**\n",
    "  - Local site: [http://localhost:8086/](http://localhost:8086/)\n",
    "  - User: bench\n",
    "  - Password: hybridtestbench\n",
    "\n",
    "- **RabbitMQ:**\n",
    "  - Local site: [http://localhost:15672/](http://localhost:15672/)\n",
    "  - User: bench\n",
    "  - Password: bench\n",
    "\n",
    "Now you should be able to access these two services, and we'll continue from here."
   ]
  },
  {
   "cell_type": "markdown",
   "metadata": {},
   "source": [
    "## Hybrid Test Bench (PT) Emulator Service\n",
    "\n",
    "The interface of the emulator is very similar to the example for the Incubator ([IncubatorDTCourse\\1-Incubator-Service\\1-Incubator-Service.ipynb](..\\1-Incubator-Service\\1-Incubator-Service.ipynb)).\n",
    "\n",
    "Our service will produce a RabbitMQ message every 3 seconds, and that message will contain data that matches exactly the data produced by the real Hybrid Test Bench - at least that is what we are trying to replicate.\n",
    "\n",
    "The main difference is that, unlike the real Hybrid Test Bench, we will have to code the behavior that corresponds to applying a force on a specific beam. We will trigger this behavior using a RabbitMQ message that the emulator will listen for. This will lead to displacement, which we will show.\n"
   ]
  },
  {
   "cell_type": "code",
   "execution_count": null,
   "metadata": {},
   "outputs": [],
   "source": []
  },
  {
   "cell_type": "code",
   "execution_count": null,
   "metadata": {},
   "outputs": [
    {
     "name": "stdout",
     "output_type": "stream",
     "text": [
      "c:\\Users\\Sarah\\Desktop\\faks\\DT\\CASE STUDY TEST BENCH\\our-repo\\hybrid-test-bench\\startup\n"
     ]
    }
   ],
   "source": [
    "# Configure python path to load the hybrid test bench modules\n",
    "import sys\n",
    "import os\n",
    "\n",
    "# Get the current working directory. Should be hybrid-test-bench\n",
    "current_dir = os.getcwd()\n",
    "\n",
    "assert os.path.basename(current_dir) == 'hybrid-test-bench', 'Current directory is not hybrid-test-bench'\n",
    "\n",
    "# Get the parent directory. Should be the root of the repository\n",
    "parent_dir = current_dir\n",
    "\n",
    "# The root of the repo should contain the startup folder. Otherwise something went wrong during the inital setup.\n",
    "assert os.path.exists(os.path.join(parent_dir, 'startup')), 'startup folder not found in the repository root'\n",
    "\n",
    "# The root of the repo should contain the installation folder. Otherwise something went wrong during the inital setup.\n",
    "assert os.path.exists(os.path.join(parent_dir, 'installation')), 'installation folder not found in the repository root'\n",
    "\n",
    "bench_startup_dir = os.path.join(parent_dir, 'startup')\n",
    "\n",
    "assert os.path.exists(bench_startup_dir), 'hybrid-test-bench startup directory not found'\n",
    "\n",
    "# Add the parent directory to sys.path\n",
    "sys.path.append(bench_startup_dir)"
   ]
  },
  {
   "cell_type": "code",
   "execution_count": null,
   "metadata": {},
   "outputs": [],
   "source": []
  }
 ],
 "metadata": {
  "kernelspec": {
   "display_name": "Python 3",
   "language": "python",
   "name": "python3"
  },
  "language_info": {
   "codemirror_mode": {
    "name": "ipython",
    "version": 3
   },
   "file_extension": ".py",
   "mimetype": "text/x-python",
   "name": "python",
   "nbconvert_exporter": "python",
   "pygments_lexer": "ipython3",
   "version": "3.12.0"
  }
 },
 "nbformat": 4,
 "nbformat_minor": 2
}
