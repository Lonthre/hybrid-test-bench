{
 "cells": [
  {
   "cell_type": "markdown",
   "metadata": {},
   "source": [
    "# Deploying the Hybrid Test Bench Emulator Service\n",
    "\n",
    "In this notebook we will deploy a service that emulates the Hybrid Test Bench PT, and subsequently create a service to store data into the time series database.\n",
    "\n",
    "Before we start, comment out all services to avoid starting the other incubator services, which conflict with the ones you will create soon."
   ]
  }
 ],
 "metadata": {
  "language_info": {
   "name": "python"
  }
 },
 "nbformat": 4,
 "nbformat_minor": 2
}
