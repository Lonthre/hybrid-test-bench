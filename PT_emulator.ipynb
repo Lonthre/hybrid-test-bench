{
 "cells": [
  {
   "cell_type": "markdown",
   "metadata": {},
   "source": [
    "# Deploying the Hybrid Test Bench Emulator Service\n",
    "\n",
    "In this notebook we will deploy a service that emulates the Hybrid Test Bench PT, and subsequently create a service to store data into the time series database.\n",
    "\n",
    "To get our service running do the followning:\n",
    "1. Make sure you're in the root of our repository ([hybrid-test-bench](./))\n",
    "2. Run the following command: \n",
    "\n",
    "```bash\n",
    "    python -m startup.start_services\n",
    "   ``` \n",
    "\n",
    "This will start both InfluxDB and RabbitMQ services. This way we can have a consistent environment accross all machines.\n",
    "\n",
    "Access, usernames and passwords are the following:\n",
    "\n",
    "- **InfluxDB:**\n",
    "  - Local site: [http://localhost:8086/](http://localhost:8086/)\n",
    "  - User: bench\n",
    "  - Password: hybridtestbench\n",
    "\n",
    "- **RabbitMQ:**\n",
    "  - Local site: [http://localhost:15672/](http://localhost:15672/)\n",
    "  - User: bench\n",
    "  - Password: bench\n",
    "\n",
    "Now you should be able to access these two services, and we'll continue from here."
   ]
  },
  {
   "cell_type": "markdown",
   "metadata": {},
   "source": [
    "## Hybrid Test Bench (PT) Emulator Service\n",
    "\n",
    "The interface of the emulator is very similar to the example for the Incubator ([IncubatorDTCourse\\1-Incubator-Service\\1-Incubator-Service.ipynb](..\\1-Incubator-Service\\1-Incubator-Service.ipynb)).\n",
    "\n",
    "Our service will produce a RabbitMQ message every 3 seconds, and that message will contain data that matches exactly the data produced by the real Hybrid Test Bench - at least that is what we are trying to replicate.\n",
    "\n",
    "The main difference is that, unlike the real Hybrid Test Bench, we will have to code the behavior that corresponds to applying a force on a specific beam. We will trigger this behavior using a RabbitMQ message that the emulator will listen for. This will lead to displacement, which we will show.\n"
   ]
  },
  {
   "cell_type": "code",
   "execution_count": 76,
   "metadata": {
    "ExecuteTime": {
     "end_time": "2025-03-28T15:25:21.276125800Z",
     "start_time": "2025-03-28T15:25:21.252297Z"
    }
   },
   "outputs": [
    {
     "name": "stdout",
     "output_type": "stream",
     "text": [
      "Overwriting logging.conf\n"
     ]
    }
   ],
   "source": [
    "%%writefile logging.conf\n",
    "\n",
    "[loggers]\n",
    "keys=root,PTEmulatorService,HybridTestBenchDataRecorderInflux\n",
    "\n",
    "[handlers]\n",
    "keys=consoleHandler,PTEmulatorServiceFileHandler,HybridTestBenchDataRecorderInfluxFileHandler\n",
    "\n",
    "[formatters]\n",
    "keys=simpleFormatter\n",
    "\n",
    "[logger_root]\n",
    "level=DEBUG\n",
    "handlers=consoleHandler\n",
    "\n",
    "[logger_PTEmulatorService]\n",
    "level=DEBUG\n",
    "handlers=PTEmulatorServiceFileHandler\n",
    "qualname=PTEmulatorService\n",
    "propagate=0\n",
    "\n",
    "[logger_HybridTestBenchDataRecorderInflux]\n",
    "level=DEBUG\n",
    "handlers=HybridTestBenchDataRecorderInfluxFileHandler\n",
    "qualname=HybridTestBenchDataRecorderInflux\n",
    "propagate=0\n",
    "\n",
    "[handler_consoleHandler]\n",
    "class=StreamHandler\n",
    "formatter=simpleFormatter\n",
    "args=(sys.stdout,)\n",
    "\n",
    "[handler_PTEmulatorServiceFileHandler]\n",
    "class=FileHandler\n",
    "formatter=simpleFormatter\n",
    "args=('PTEmulatorService.log', 'w')\n",
    "\n",
    "[handler_HybridTestBenchDataRecorderInfluxFileHandler]\n",
    "class=FileHandler\n",
    "formatter=simpleFormatter\n",
    "args=('HybridTestBenchDataRecorderInflux.log', 'w')\n",
    "\n",
    "[formatter_simpleFormatter]\n",
    "format=%(asctime)s.%(msecs)03d %(levelname)s %(name)s : %(message)s\n",
    "datefmt=%Y-%m-%d %H:%M:%S"
   ]
  },
  {
   "cell_type": "code",
   "execution_count": 77,
   "metadata": {
    "ExecuteTime": {
     "end_time": "2025-03-28T15:25:21.277140800Z",
     "start_time": "2025-03-28T15:25:21.264119700Z"
    }
   },
   "outputs": [],
   "source": [
    "import sys\n",
    "import os\n",
    "\n",
    "# Get the current working directory. Should be hybrid-test-bench\n",
    "current_dir = os.getcwd()\n",
    "\n",
    "assert os.path.basename(current_dir) == 'hybrid-test-bench', 'Current directory is not hybrid-test-bench'\n",
    "\n",
    "# Get the parent directory. Should be the root of the repository\n",
    "parent_dir = current_dir\n",
    "\n",
    "# The root of the repo should contain the startup folder. Otherwise something went wrong during the inital setup.\n",
    "assert os.path.exists(os.path.join(parent_dir, 'startup')), 'startup folder not found in the repository root'\n",
    "\n",
    "# The root of the repo should contain the installation folder. Otherwise something went wrong during the inital setup.\n",
    "assert os.path.exists(os.path.join(parent_dir, 'installation')), 'installation folder not found in the repository root'\n",
    "\n",
    "bench_startup_dir = os.path.join(parent_dir, 'startup')\n",
    "\n",
    "assert os.path.exists(bench_startup_dir), 'hybrid-test-bench startup directory not found'\n",
    "\n",
    "# Add the parent directory to sys.path\n",
    "sys.path.append(bench_startup_dir)"
   ]
  },
  {
   "cell_type": "code",
   "execution_count": 78,
   "metadata": {
    "ExecuteTime": {
     "end_time": "2025-03-28T15:25:21.291489600Z",
     "start_time": "2025-03-28T15:25:21.272634200Z"
    }
   },
   "outputs": [
    {
     "name": "stdout",
     "output_type": "stream",
     "text": [
      "Overwriting pt_emulator_service.py\n"
     ]
    }
   ],
   "source": [
    "%%writefile pt_emulator_service.py\n",
    "\n",
    "# Configure python path to load hybrid test bench modules\n",
    "import sys\n",
    "import os\n",
    "import logging\n",
    "import logging.config\n",
    "import time\n",
    "import numpy as np\n",
    "\n",
    "# Get the current working directory. Should be hybrid-test-bench\n",
    "current_dir = os.getcwd()\n",
    "\n",
    "assert os.path.basename(current_dir) == 'hybrid-test-bench', 'Current directory is not hybrid-test-bench'\n",
    "\n",
    "# Get the parent directory. Should be the root of the repository\n",
    "parent_dir = current_dir\n",
    "\n",
    "from communication.server.rabbitmq import Rabbitmq\n",
    "from communication.shared.protocol import ROUTING_KEY_STATE,ROUTING_KEY_FORCES\n",
    "import pt_model as pt_model\n",
    "\n",
    "\n",
    "class PTEmulatorService:\n",
    "    \n",
    "    def __init__(self, execution_interval, rabbitmq_config):\n",
    "\n",
    "        self._rabbitmq = Rabbitmq(**rabbitmq_config)\n",
    "        self._l = logging.getLogger(\"PTEmulatorService\")\n",
    "\n",
    "        self._execution_interval = execution_interval # seconds\n",
    "\n",
    "    def setup(self):\n",
    "        self._rabbitmq.connect_to_server()\n",
    "\n",
    "        # Declare local queues for the force messages\n",
    "        self.forces_queue_name = self._rabbitmq.declare_local_queue(routing_key=ROUTING_KEY_FORCES)\n",
    "\n",
    "        self._l.info(f\"PTEmulatorService setup complete.\")\n",
    "\n",
    "    def _read_forces(self):\n",
    "        msg = self._rabbitmq.get_message(self.forces_queue_name)\n",
    "        if msg is not None:\n",
    "            return msg[\"forces\"]\n",
    "        else:\n",
    "            return None\n",
    "\n",
    "    def emulate_pt(self):\n",
    "\n",
    "        # Call the main function or logic from the script\n",
    "        model = pt_model.PtModel()\n",
    "        u, l, r = model.run_simulation()\n",
    "\n",
    "        # Additional logic for the emulator can go here\n",
    "        self._l.info(\"PT script executed successfully.\")\n",
    "        \n",
    "    def send_state(self, time_start):\n",
    "        timestamp = time.time_ns()\n",
    "        # Publishes the new state\n",
    "        message = {\n",
    "            \"measurement\": \"emulator\",\n",
    "            \"time\": timestamp,\n",
    "            \"tags\": {\n",
    "                \"source\": \"emulator\"\n",
    "            },\n",
    "            \"fields\": {\n",
    "                \"id\": 29 # Just hardcoded for now, but should be the id of the PT in the system.\n",
    "            }\n",
    "        }\n",
    "\n",
    "        self._rabbitmq.send_message(ROUTING_KEY_STATE, message)\n",
    "        self._l.debug(f\"Message sent to {ROUTING_KEY_STATE}.\")\n",
    "        self._l.debug(message)\n",
    "    \n",
    "    def start_emulation(self):\n",
    "        # Start the emulation loop\n",
    "        self._l.info(\"Starting PTEmulator emulation loop.\")\n",
    "        while True:\n",
    "            time_start = time.time()\n",
    "            # Emulate the PT behavior\n",
    "            self.emulate_pt() \n",
    "            # Send the new state to the hybrid test bench physical twin\n",
    "            self.send_state(time_start)\n",
    "            # Sleep until the next sample\n",
    "            time_end = time.time()\n",
    "            time_diff = time_end - time_start\n",
    "            if time_diff < self._execution_interval:\n",
    "                time.sleep(self._execution_interval - time_diff)\n",
    "            else:\n",
    "                self._l.warning(f\"Emulation loop took too long: {time_diff} seconds.\")\n",
    "    \n",
    "if __name__ == \"__main__\":\n",
    "    # Get utility functions to config logging and load configuration\n",
    "    from pyhocon import ConfigFactory\n",
    "    \n",
    "    logging_conf = os.path.join(os.path.dirname(os.getcwd()), 'hybrid-test-bench','logging.conf')\n",
    "    logging.config.fileConfig(logging_conf)\n",
    "\n",
    "    # Get path to the startup.conf file used in the hybrid test bench PT & DT:\n",
    "    startup_conf = os.path.join(os.path.dirname(os.getcwd()), 'hybrid-test-bench', 'software','startup.conf')\n",
    "    assert os.path.exists(startup_conf), 'startup.conf file not found'\n",
    "\n",
    "    # The startup.conf comes from the hybrid test bench repository.\n",
    "    config = ConfigFactory.parse_file(startup_conf)\n",
    "    \n",
    "    service = PTEmulatorService(\n",
    "        execution_interval = 3.0,\n",
    "        rabbitmq_config=config[\"rabbitmq\"])\n",
    "\n",
    "    service.setup()\n",
    "    \n",
    "    # Start the PTEmulatorService\n",
    "    service.start_emulation()"
   ]
  },
  {
   "cell_type": "code",
   "execution_count": 79,
   "metadata": {},
   "outputs": [
    {
     "name": "stdout",
     "output_type": "stream",
     "text": [
      "pt_emulator_service = 107976\n"
     ]
    }
   ],
   "source": [
    "# You can run this, or you can run the command below in a new terminal windows to start the service\n",
    "import subprocess\n",
    "import time\n",
    "\n",
    "# Start a process asynchronously\n",
    "pt_emulator_service_proc = subprocess.Popen([sys.executable, \"pt_emulator_service.py\"])\n",
    "\n",
    "# Wait for 5 seconds for the process to start\n",
    "time.sleep(5)\n",
    "\n",
    "# Print the PID of the process. You can search for this in your task manager to see the process running and kill it if necessary.\n",
    "print(f\"pt_emulator_service = {pt_emulator_service_proc.pid}\")"
   ]
  },
  {
   "cell_type": "code",
   "execution_count": 80,
   "metadata": {},
   "outputs": [
    {
     "name": "stdout",
     "output_type": "stream",
     "text": [
      "2025-03-29 18:26:57.378 INFO PTEmulatorService : PTEmulatorService setup complete.\n",
      "2025-03-29 18:26:57.378 INFO PTEmulatorService : Starting PTEmulator emulation loop.\n",
      "2025-03-29 18:26:58.832 INFO PTEmulatorService : PT script executed successfully.\n",
      "2025-03-29 18:26:58.835 DEBUG PTEmulatorService : Message sent to hybridtestbench.record.driver.state.\n",
      "2025-03-29 18:26:58.835 DEBUG PTEmulatorService : {'measurement': 'emulator', 'time': 1743269218833529000, 'tags': {'source': 'emulator'}, 'fields': {'id': 29}}\n",
      "\n"
     ]
    }
   ],
   "source": [
    "# Print contents of log file to verify that the service is running\n",
    "with open('PTEmulatorService.log', 'r') as f:\n",
    "    print(f.read())\n",
    "\n",
    "# Check process hasn't crashed\n",
    "assert pt_emulator_service_proc.poll() is None, \"PTEmulatorService process has crashed\""
   ]
  },
  {
   "cell_type": "code",
   "execution_count": 81,
   "metadata": {},
   "outputs": [],
   "source": [
    "from communication.server.rabbitmq import Rabbitmq\n",
    "from communication.shared.protocol import ROUTING_KEY_STATE,ROUTING_KEY_FORCES\n",
    "\n",
    "from pyhocon import ConfigFactory\n",
    "\n",
    "# Get config\n",
    "startup_conf = os.path.join(os.path.dirname(os.getcwd()), 'hybrid-test-bench', 'software','startup.conf')\n",
    "config = ConfigFactory.parse_file(startup_conf)\n",
    "\n",
    "# Send a message to the PT to simulate the lid opening by a factor\n",
    "with Rabbitmq(**config[\"rabbitmq\"]) as rabbitmq:\n",
    "    rabbitmq.send_message(ROUTING_KEY_FORCES, {\"force\": 50})\n",
    "\n",
    "# Wait a bit for the message to be processed\n",
    "time.sleep(5)"
   ]
  },
  {
   "cell_type": "code",
   "execution_count": 82,
   "metadata": {},
   "outputs": [
    {
     "name": "stdout",
     "output_type": "stream",
     "text": [
      "2025-03-29 18:26:57.378 INFO PTEmulatorService : PTEmulatorService setup complete.\n",
      "2025-03-29 18:26:57.378 INFO PTEmulatorService : Starting PTEmulator emulation loop.\n",
      "2025-03-29 18:26:58.832 INFO PTEmulatorService : PT script executed successfully.\n",
      "2025-03-29 18:26:58.835 DEBUG PTEmulatorService : Message sent to hybridtestbench.record.driver.state.\n",
      "2025-03-29 18:26:58.835 DEBUG PTEmulatorService : {'measurement': 'emulator', 'time': 1743269218833529000, 'tags': {'source': 'emulator'}, 'fields': {'id': 29}}\n",
      "2025-03-29 18:27:01.058 INFO PTEmulatorService : PT script executed successfully.\n",
      "2025-03-29 18:27:01.073 DEBUG PTEmulatorService : Message sent to hybridtestbench.record.driver.state.\n",
      "2025-03-29 18:27:01.073 DEBUG PTEmulatorService : {'measurement': 'emulator', 'time': 1743269221072294900, 'tags': {'source': 'emulator'}, 'fields': {'id': 29}}\n",
      "2025-03-29 18:27:04.269 INFO PTEmulatorService : PT script executed successfully.\n",
      "2025-03-29 18:27:04.270 DEBUG PTEmulatorService : Message sent to hybridtestbench.record.driver.state.\n",
      "2025-03-29 18:27:04.270 DEBUG PTEmulatorService : {'measurement': 'emulator', 'time': 1743269224269182000, 'tags': {'source': 'emulator'}, 'fields': {'id': 29}}\n",
      "2025-03-29 18:27:07.106 INFO PTEmulatorService : PT script executed successfully.\n",
      "2025-03-29 18:27:07.108 DEBUG PTEmulatorService : Message sent to hybridtestbench.record.driver.state.\n",
      "2025-03-29 18:27:07.108 DEBUG PTEmulatorService : {'measurement': 'emulator', 'time': 1743269227107567400, 'tags': {'source': 'emulator'}, 'fields': {'id': 29}}\n",
      "2025-03-29 18:27:10.052 INFO PTEmulatorService : PT script executed successfully.\n",
      "2025-03-29 18:27:10.055 DEBUG PTEmulatorService : Message sent to hybridtestbench.record.driver.state.\n",
      "2025-03-29 18:27:10.055 DEBUG PTEmulatorService : {'measurement': 'emulator', 'time': 1743269230053862900, 'tags': {'source': 'emulator'}, 'fields': {'id': 29}}\n",
      "2025-03-29 18:27:13.012 INFO PTEmulatorService : PT script executed successfully.\n",
      "2025-03-29 18:27:13.014 DEBUG PTEmulatorService : Message sent to hybridtestbench.record.driver.state.\n",
      "2025-03-29 18:27:13.014 DEBUG PTEmulatorService : {'measurement': 'emulator', 'time': 1743269233013676200, 'tags': {'source': 'emulator'}, 'fields': {'id': 29}}\n",
      "2025-03-29 18:27:16.097 INFO PTEmulatorService : PT script executed successfully.\n",
      "2025-03-29 18:27:16.099 DEBUG PTEmulatorService : Message sent to hybridtestbench.record.driver.state.\n",
      "2025-03-29 18:27:16.099 DEBUG PTEmulatorService : {'measurement': 'emulator', 'time': 1743269236098479800, 'tags': {'source': 'emulator'}, 'fields': {'id': 29}}\n",
      "2025-03-29 18:27:19.072 INFO PTEmulatorService : PT script executed successfully.\n",
      "2025-03-29 18:27:19.073 DEBUG PTEmulatorService : Message sent to hybridtestbench.record.driver.state.\n",
      "2025-03-29 18:27:19.073 DEBUG PTEmulatorService : {'measurement': 'emulator', 'time': 1743269239072724600, 'tags': {'source': 'emulator'}, 'fields': {'id': 29}}\n",
      "\n"
     ]
    }
   ],
   "source": [
    "# Print contents of log file to verify that the service is running\n",
    "with open('PTEmulatorService.log', 'r') as f:\n",
    "    print(f.read())\n",
    "\n",
    "# Check process hasn't crashed\n",
    "assert pt_emulator_service_proc.poll() is None, \"PTEmulatorService process has crashed\""
   ]
  },
  {
   "cell_type": "markdown",
   "metadata": {},
   "source": [
    "# Here we should see a message change InfluxDB\n",
    "\n",
    "# We'll see displacament as a consequence of applying a force."
   ]
  },
  {
   "cell_type": "code",
   "execution_count": 83,
   "metadata": {},
   "outputs": [],
   "source": [
    "pt_emulator_service_proc.terminate() # Terminate the process. Send SIGTERM signal to the process. The process can catch this signal and perform cleanup operations before exiting, so we wait.\n",
    "pt_emulator_service_proc.wait()  # Wait for the process to exit fully. Should print exit code 1, due to interruption.\n",
    "\n",
    "# Ensure process has exited\n",
    "assert pt_emulator_service_proc.returncode is not None, 'Process has not exited'"
   ]
  },
  {
   "cell_type": "markdown",
   "metadata": {},
   "source": [
    "## Data Recording Service\n",
    "\n",
    "In this second part of the notebook, we deploy a service that subscribes to all relevant messages being exchanged, and stores them in the time series database, so that it can be visualized.\n",
    "\n",
    "The key parts of this service are:\n",
    "1. It subscribes to all messages going to a topic that's prefixed by `ROUTING_KEY_RECORDER=\"hybridtestbench.record.#\"`. So a message sent to topic `hybridtestbench.record.driver.state` will also be received by the data recorder. Note that any other service that has declared a local queue attached to that topic will receive a copy of the message.\n",
    "2. It uses the InfluxDB Client library to write the message data into the time series database. The message is already in the right format."
   ]
  },
  {
   "cell_type": "code",
   "execution_count": 98,
   "metadata": {},
   "outputs": [
    {
     "name": "stdout",
     "output_type": "stream",
     "text": [
      "Overwriting hybrid_test_bench_data_recorder_influx.py\n"
     ]
    }
   ],
   "source": [
    "%%writefile hybrid_test_bench_data_recorder_influx.py\n",
    "\n",
    "# Configure python path to load incubator modules\n",
    "import sys\n",
    "import os\n",
    "import logging\n",
    "import logging.config\n",
    "import time\n",
    "\n",
    "from influxdb_client import InfluxDBClient\n",
    "from influxdb_client.client.write_api import SYNCHRONOUS\n",
    "\n",
    "# Get the current working directory. Should be hybrid-test-bench\n",
    "current_dir = os.getcwd()\n",
    "\n",
    "assert os.path.basename(current_dir) == 'hybrid-test-bench', 'Current directory is not hybrid-test-bench'\n",
    "\n",
    "# Get the parent directory. Should be the root of the repository\n",
    "parent_dir = current_dir\n",
    "\n",
    "# The root of the repo should contain the startup folder. Otherwise something went wrong during the inital setup.\n",
    "assert os.path.exists(os.path.join(parent_dir, 'startup')), 'startup folder not found in the repository root'\n",
    "\n",
    "# The root of the repo should contain the installation folder. Otherwise something went wrong during the inital setup.\n",
    "assert os.path.exists(os.path.join(parent_dir, 'installation')), 'installation folder not found in the repository root'\n",
    "\n",
    "bench_startup_dir = os.path.join(parent_dir, 'startup')\n",
    "\n",
    "assert os.path.exists(bench_startup_dir), 'hybrid-test-bench startup directory not found'\n",
    "\n",
    "# Add the parent directory to sys.path\n",
    "sys.path.append(bench_startup_dir)\n",
    "\n",
    "from communication.shared.protocol import ROUTING_KEY_RECORDER\n",
    "from communication.server.rabbitmq import Rabbitmq\n",
    "\n",
    "class HybridTestBenchDataRecorderInflux:\n",
    "    def __init__(self, rabbitmq_config, influxdb_config):\n",
    "        self._l = logging.getLogger(\"HybridTestBenchDataRecorderInflux\")\n",
    "        \n",
    "        client = InfluxDBClient(**influxdb_config)\n",
    "        write_api = client.write_api(write_options=SYNCHRONOUS)\n",
    "        self.write_api = write_api\n",
    "        self.influx_db_org = influxdb_config[\"org\"]\n",
    "        self.influxdb_bucket = influxdb_config[\"bucket\"]\n",
    "\n",
    "        self.rabbitmq = Rabbitmq(**rabbitmq_config)\n",
    "\n",
    "    def read_record_request(self, ch, method, properties, body_json):\n",
    "        self._l.debug(\"New record msg:\")\n",
    "        self._l.debug(body_json)\n",
    "        self.write_api.write(self.influxdb_bucket, self.influx_db_org, body_json)\n",
    "\n",
    "    def setup(self):\n",
    "        self.rabbitmq.connect_to_server()\n",
    "\n",
    "        self.rabbitmq.subscribe(routing_key=ROUTING_KEY_RECORDER,\n",
    "                           on_message_callback=self.read_record_request)\n",
    "\n",
    "    def start_recording(self):\n",
    "        try:\n",
    "            self.rabbitmq.start_consuming()\n",
    "        except KeyboardInterrupt:\n",
    "            self.rabbitmq.close()\n",
    "    \n",
    "if __name__ == \"__main__\":\n",
    "    # Get utility functions to config logging and load configuration\n",
    "    from pyhocon import ConfigFactory\n",
    "\n",
    "    # Get logging configuration\n",
    "    logging_conf = os.path.join(os.path.dirname(os.getcwd()), 'hybrid-test-bench', 'logging.conf')\n",
    "    logging.config.fileConfig(logging_conf)\n",
    "\n",
    "    # Get path to the startup.conf file used in the hybrid test bench PT & DT:\n",
    "    startup_conf = os.path.join(os.path.dirname(os.getcwd()), 'hybrid-test-bench', 'software','startup.conf')\n",
    "    assert os.path.exists(startup_conf), 'startup.conf file not found'\n",
    "\n",
    "    # The startup.conf comes from the hybrid test bench repository.\n",
    "    config = ConfigFactory.parse_file(startup_conf)\n",
    "    \n",
    "    service = HybridTestBenchDataRecorderInflux(rabbitmq_config=config[\"rabbitmq\"], influxdb_config=config[\"influxdb\"])\n",
    "\n",
    "    service.setup()\n",
    "    \n",
    "    # Start the HybridTestBenchDataRecorderInflux\n",
    "    service.start_recording()"
   ]
  },
  {
   "cell_type": "code",
   "execution_count": 99,
   "metadata": {},
   "outputs": [
    {
     "name": "stdout",
     "output_type": "stream",
     "text": [
      "pt_emulator_service = 35264\n"
     ]
    }
   ],
   "source": [
    "# Start a process asynchronously\n",
    "pt_emulator_service_proc = subprocess.Popen([sys.executable, \"pt_emulator_service.py\"])\n",
    "\n",
    "# Wait for 5 seconds for the process to start\n",
    "time.sleep(5)\n",
    "\n",
    "# Print the PID of the process. You can search for this in your task manager to see the process running and kill it if necessary.\n",
    "print(f\"pt_emulator_service = {pt_emulator_service_proc.pid}\")"
   ]
  },
  {
   "cell_type": "code",
   "execution_count": 100,
   "metadata": {},
   "outputs": [
    {
     "name": "stdout",
     "output_type": "stream",
     "text": [
      "hybrid_test_bench_data_recorder_influx = 36048\n"
     ]
    }
   ],
   "source": [
    "# Start a process asynchronously\n",
    "hybrid_test_bench_data_recorder_influx_proc = subprocess.Popen([sys.executable, \"hybrid_test_bench_data_recorder_influx.py\"])\n",
    "\n",
    "# Wait for 5 seconds for the process to start\n",
    "time.sleep(5)\n",
    "\n",
    "# Print the PID of the process. You can search for this in your task manager to see the process running and kill it if necessary.\n",
    "print(f\"hybrid_test_bench_data_recorder_influx = {hybrid_test_bench_data_recorder_influx_proc.pid}\")"
   ]
  },
  {
   "cell_type": "code",
   "execution_count": 101,
   "metadata": {},
   "outputs": [],
   "source": [
    "assert pt_emulator_service_proc.poll() is None, \"PTEmulatorService process has crashed\"\n",
    "assert hybrid_test_bench_data_recorder_influx_proc.poll() is None, \"HybridTestBenchDataRecorderInflux process has crashed\""
   ]
  },
  {
   "cell_type": "code",
   "execution_count": 102,
   "metadata": {},
   "outputs": [
    {
     "name": "stdout",
     "output_type": "stream",
     "text": [
      "\n"
     ]
    }
   ],
   "source": [
    "# Print contents of log file to verify that the service is running\n",
    "with open('HybridTestBenchDataRecorderInflux.log', 'r') as f:\n",
    "    print(f.read())"
   ]
  },
  {
   "cell_type": "markdown",
   "metadata": {},
   "source": [
    "On the InfluxDB management page, you should be able to query for the data coming from the emulator:\n",
    "\n",
    "# INSERT AN IMAGE OF THE DASHBOARD HERE (WHEN OUR PROCESSES WILL WORK)\n",
    "\n",
    "Let us now send the apply force message:"
   ]
  },
  {
   "cell_type": "code",
   "execution_count": 103,
   "metadata": {},
   "outputs": [],
   "source": [
    "# Get config\n",
    "startup_conf = os.path.join(os.path.dirname(os.getcwd()), 'hybrid-test-bench', 'software','startup.conf')\n",
    "config = ConfigFactory.parse_file(startup_conf)\n",
    "\n",
    "# Send a message to the PT to simulate the lid opening by a factor\n",
    "with Rabbitmq(**config[\"rabbitmq\"]) as rabbitmq:\n",
    "    rabbitmq.send_message(ROUTING_KEY_FORCES, {\"force\": 50})\n",
    "\n",
    "# Wait a bit for the message to be processed\n",
    "time.sleep(5)"
   ]
  },
  {
   "cell_type": "markdown",
   "metadata": {},
   "source": [
    "# INSERT AN IMAGE OF THE DASHBOARD HERE (WHEN OUR PROCESSES WILL WORK)\n",
    "\n",
    "NOW WE SHOULD BE ABLE TO SEE SOME DISPLACEMENT ON THE DASHBOARD, BECAUSE A FORCE WAS APPLIED"
   ]
  },
  {
   "cell_type": "markdown",
   "metadata": {},
   "source": [
    "Emulation was succesful, let's kill the processes."
   ]
  },
  {
   "cell_type": "code",
   "execution_count": 104,
   "metadata": {},
   "outputs": [],
   "source": [
    "pt_emulator_service_proc.terminate() # Terminate the process. Send SIGTERM signal to the process. The process can catch this signal and perform cleanup operations before exiting, so we wait.\n",
    "pt_emulator_service_proc.wait()  # Wait for the process to exit fully. Should print exit code 1, due to interruption.\n",
    "\n",
    "# Ensure process has exited\n",
    "assert pt_emulator_service_proc.returncode is not None, 'Process has not exited'"
   ]
  },
  {
   "cell_type": "code",
   "execution_count": 105,
   "metadata": {},
   "outputs": [],
   "source": [
    "hybrid_test_bench_data_recorder_influx_proc.terminate() # Terminate the process. Send SIGTERM signal to the process. The process can catch this signal and perform cleanup operations before exiting, so we wait.\n",
    "hybrid_test_bench_data_recorder_influx_proc.wait()  # Wait for the process to exit fully. Should print exit code 1, due to interruption.\n",
    "\n",
    "# Ensure process has exited\n",
    "assert hybrid_test_bench_data_recorder_influx_proc.returncode is not None, 'Process has not exited'"
   ]
  },
  {
   "cell_type": "markdown",
   "metadata": {},
   "source": [
    "When everything is fixed, here is where we will stop and hopefully have the entire thing wrapped up!"
   ]
  }
 ],
 "metadata": {
  "kernelspec": {
   "display_name": "Python 3",
   "language": "python",
   "name": "python3"
  },
  "language_info": {
   "codemirror_mode": {
    "name": "ipython",
    "version": 3
   },
   "file_extension": ".py",
   "mimetype": "text/x-python",
   "name": "python",
   "nbconvert_exporter": "python",
   "pygments_lexer": "ipython3",
   "version": "3.12.0"
  }
 },
 "nbformat": 4,
 "nbformat_minor": 2
}
